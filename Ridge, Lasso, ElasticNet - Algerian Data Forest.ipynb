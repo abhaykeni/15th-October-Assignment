{
 "cells": [
  {
   "cell_type": "code",
   "execution_count": 3,
   "id": "3e8329e0",
   "metadata": {},
   "outputs": [],
   "source": [
    "import pandas as pd\n",
    "import numpy as np\n",
    "from sklearn.preprocessing import StandardScaler\n",
    "from sklearn.linear_model import Ridge,Lasso,RidgeCV,LassoCV,ElasticNet, ElasticNetCV\n",
    "from sklearn.model_selection import train_test_split\n",
    "import seaborn as sns\n",
    "import matplotlib.pyplot as plt\n",
    "%matplotlib inline\n",
    "sns.set()"
   ]
  },
  {
   "cell_type": "code",
   "execution_count": 4,
   "id": "a57575a6",
   "metadata": {},
   "outputs": [],
   "source": [
    "data = pd.read_csv(\"G:\\Assignments\\EDA\\Data Sets\\Algerian_forest_fires_dataset_UPDATE.csv\",header = 1)"
   ]
  },
  {
   "cell_type": "code",
   "execution_count": 5,
   "id": "84cd2e12",
   "metadata": {},
   "outputs": [],
   "source": [
    "#Slicing Operation of a Data Frame\n",
    "k = 2\n",
    "size = 125\n",
    "for i in range(k):\n",
    "    df = data[size*i:size*(i+1)]\n",
    "    df.to_csv(f'Reg_{i+1}.csv', index=False)\n",
    "\n",
    "br_data = pd.read_csv(\"Reg_1.csv\")\n",
    "bar_data = pd.read_csv(\"Reg_2.csv\")\n",
    "br_data = br_data.drop([122,123,124])\n",
    "br_data.to_csv(\"Reg_1.csv\")\n",
    "bar_data.to_csv(\"Reg_2.csv\")\n",
    "bar_data = pd.read_csv(\"Reg_2.csv\")\n",
    "br_data = pd.read_csv(\"Reg_1.csv\")\n",
    "bar_data = bar_data.drop(\"Unnamed: 0\",axis=1)\n",
    "br_data = br_data.drop(\"Unnamed: 0\",axis=1)"
   ]
  },
  {
   "cell_type": "code",
   "execution_count": 6,
   "id": "1674cc0e",
   "metadata": {},
   "outputs": [],
   "source": [
    "x_br = br_data.drop(['Temperature','Classes  '],axis=1)\n",
    "y_br = br_data['Temperature']\n",
    "x_bar = bar_data.drop(['Temperature','Classes  '],axis=1)\n",
    "y_bar = bar_data['Temperature']"
   ]
  },
  {
   "cell_type": "code",
   "execution_count": 8,
   "id": "384b030e",
   "metadata": {},
   "outputs": [],
   "source": [
    "from sklearn.model_selection import train_test_split\n",
    "x_br_train, x_br_test, y_br_train, y_br_test = train_test_split(x_br,y_br,test_size=0.33,random_state=42)\n",
    "x_bar_train, x_bar_test, y_bar_train, y_bar_test = train_test_split(x_bar,y_bar,test_size=0.33,random_state=42)"
   ]
  },
  {
   "cell_type": "code",
   "execution_count": 12,
   "id": "96111b8d",
   "metadata": {},
   "outputs": [],
   "source": [
    "from sklearn.preprocessing import StandardScaler\n",
    "br_scaler=StandardScaler()\n",
    "bar_scaler=StandardScaler()"
   ]
  },
  {
   "cell_type": "code",
   "execution_count": 13,
   "id": "ad285ead",
   "metadata": {},
   "outputs": [],
   "source": [
    "x_br_train = br_scaler.fit_transform(x_br_train)\n",
    "x_bar_train = bar_scaler.fit_transform(x_bar_train)"
   ]
  },
  {
   "cell_type": "code",
   "execution_count": 14,
   "id": "c5eae3bc",
   "metadata": {},
   "outputs": [],
   "source": [
    "x_br_test = br_scaler.transform(x_br_test)\n",
    "x_bar_test = bar_scaler.transform(x_bar_test)"
   ]
  },
  {
   "cell_type": "markdown",
   "id": "428bab1a",
   "metadata": {},
   "source": [
    "# Ridge"
   ]
  },
  {
   "cell_type": "code",
   "execution_count": 29,
   "id": "22068473",
   "metadata": {},
   "outputs": [],
   "source": [
    "ridge_br_regression = Ridge(alpha=1.0)\n",
    "ridge_bar_regression = Ridge(alpha=1.0)"
   ]
  },
  {
   "cell_type": "code",
   "execution_count": 30,
   "id": "2871306d",
   "metadata": {},
   "outputs": [
    {
     "data": {
      "text/plain": [
       "Ridge()"
      ]
     },
     "execution_count": 30,
     "metadata": {},
     "output_type": "execute_result"
    }
   ],
   "source": [
    "ridge_br_regression.fit(x_br_train,y_br_train)"
   ]
  },
  {
   "cell_type": "code",
   "execution_count": 31,
   "id": "dcb9ea64",
   "metadata": {},
   "outputs": [
    {
     "data": {
      "text/plain": [
       "Ridge()"
      ]
     },
     "execution_count": 31,
     "metadata": {},
     "output_type": "execute_result"
    }
   ],
   "source": [
    "ridge_bar_regression.fit(x_bar_train,y_bar_train)"
   ]
  },
  {
   "cell_type": "code",
   "execution_count": 33,
   "id": "acdaa2c6",
   "metadata": {},
   "outputs": [],
   "source": [
    "ridge_br_reg_pred = ridge_br_regression.predict(x_br_test)"
   ]
  },
  {
   "cell_type": "code",
   "execution_count": 72,
   "id": "1b6894c6",
   "metadata": {},
   "outputs": [],
   "source": [
    "ridge_br_residual = y_br_test - ridge_br_reg_pred"
   ]
  },
  {
   "cell_type": "code",
   "execution_count": 36,
   "id": "3308da68",
   "metadata": {},
   "outputs": [],
   "source": [
    "ridge_bar_reg_pred = ridge_bar_regression.predict(x_bar_test)"
   ]
  },
  {
   "cell_type": "code",
   "execution_count": 71,
   "id": "0acb37a8",
   "metadata": {},
   "outputs": [],
   "source": [
    "ridge_bar_residual = y_bar_test - ridge_bar_reg_pred"
   ]
  },
  {
   "cell_type": "code",
   "execution_count": 38,
   "id": "cb6372a2",
   "metadata": {},
   "outputs": [
    {
     "name": "stdout",
     "output_type": "stream",
     "text": [
      "6.4801739738143\n",
      "2.5456185837266156\n",
      "2.023657549733806\n"
     ]
    }
   ],
   "source": [
    "from sklearn.metrics import mean_squared_error\n",
    "from sklearn.metrics import mean_absolute_error\n",
    "print(mean_squared_error(y_br_test,ridge_br_reg_pred))\n",
    "print(np.sqrt(mean_squared_error(y_br_test,ridge_br_reg_pred)))\n",
    "print(mean_absolute_error(y_br_test,ridge_br_reg_pred))"
   ]
  },
  {
   "cell_type": "code",
   "execution_count": 39,
   "id": "ee4d16b9",
   "metadata": {},
   "outputs": [
    {
     "name": "stdout",
     "output_type": "stream",
     "text": [
      "10.2423386391643\n",
      "3.200365391508335\n",
      "2.3787768619609957\n"
     ]
    }
   ],
   "source": [
    "print(mean_squared_error(y_bar_test,ridge_bar_reg_pred))\n",
    "print(np.sqrt(mean_squared_error(y_bar_test,ridge_bar_reg_pred)))\n",
    "print(mean_absolute_error(y_bar_test,ridge_bar_reg_pred))"
   ]
  },
  {
   "cell_type": "code",
   "execution_count": 43,
   "id": "70800fd4",
   "metadata": {},
   "outputs": [
    {
     "name": "stdout",
     "output_type": "stream",
     "text": [
      "0.5305071782612776\n"
     ]
    }
   ],
   "source": [
    "from sklearn.metrics import r2_score\n",
    "ridge_br_score = r2_score(y_br_test,ridge_br_reg_pred)\n",
    "print(ridge_br_score)"
   ]
  },
  {
   "cell_type": "code",
   "execution_count": 44,
   "id": "fa350fd9",
   "metadata": {},
   "outputs": [
    {
     "name": "stdout",
     "output_type": "stream",
     "text": [
      "0.32797145775038294\n"
     ]
    }
   ],
   "source": [
    "ridge_bar_score = r2_score(y_bar_test,ridge_bar_reg_pred)\n",
    "print(ridge_bar_score)"
   ]
  },
  {
   "cell_type": "markdown",
   "id": "51d488bd",
   "metadata": {},
   "source": [
    "# Lasso"
   ]
  },
  {
   "cell_type": "code",
   "execution_count": 45,
   "id": "c8a7db36",
   "metadata": {},
   "outputs": [],
   "source": [
    "lasso_br_regression = Lasso(alpha=1.0)\n",
    "lasso_bar_regression = Lasso(alpha=1.0)"
   ]
  },
  {
   "cell_type": "code",
   "execution_count": 46,
   "id": "9f556d09",
   "metadata": {},
   "outputs": [
    {
     "data": {
      "text/plain": [
       "Lasso()"
      ]
     },
     "execution_count": 46,
     "metadata": {},
     "output_type": "execute_result"
    }
   ],
   "source": [
    "lasso_br_regression.fit(x_br_train,y_br_train)"
   ]
  },
  {
   "cell_type": "code",
   "execution_count": 47,
   "id": "4e199b9b",
   "metadata": {},
   "outputs": [
    {
     "data": {
      "text/plain": [
       "Lasso()"
      ]
     },
     "execution_count": 47,
     "metadata": {},
     "output_type": "execute_result"
    }
   ],
   "source": [
    "lasso_bar_regression.fit(x_bar_train,y_bar_train)"
   ]
  },
  {
   "cell_type": "code",
   "execution_count": 48,
   "id": "3eb50e30",
   "metadata": {},
   "outputs": [],
   "source": [
    "lasso_br_reg_pred = lasso_br_regression.predict(x_br_test)"
   ]
  },
  {
   "cell_type": "code",
   "execution_count": 70,
   "id": "d5c8b027",
   "metadata": {},
   "outputs": [],
   "source": [
    "lasso_br_residual = y_br_test - lasso_br_reg_pred"
   ]
  },
  {
   "cell_type": "code",
   "execution_count": 50,
   "id": "b36fedd9",
   "metadata": {},
   "outputs": [],
   "source": [
    "lasso_bar_reg_pred = lasso_bar_regression.predict(x_bar_test)"
   ]
  },
  {
   "cell_type": "code",
   "execution_count": 69,
   "id": "eb1911b1",
   "metadata": {},
   "outputs": [],
   "source": [
    "lasso_bar_residual = y_bar_test - lasso_bar_reg_pred"
   ]
  },
  {
   "cell_type": "code",
   "execution_count": 52,
   "id": "f3748869",
   "metadata": {},
   "outputs": [
    {
     "name": "stdout",
     "output_type": "stream",
     "text": [
      "7.735972699036619\n",
      "2.7813616627538065\n",
      "2.271490577991939\n"
     ]
    }
   ],
   "source": [
    "print(mean_squared_error(y_br_test,lasso_br_reg_pred))\n",
    "print(np.sqrt(mean_squared_error(y_br_test,lasso_br_reg_pred)))\n",
    "print(mean_absolute_error(y_br_test,lasso_br_reg_pred))"
   ]
  },
  {
   "cell_type": "code",
   "execution_count": 64,
   "id": "64d1fe7c",
   "metadata": {},
   "outputs": [
    {
     "name": "stdout",
     "output_type": "stream",
     "text": [
      "11.055416586037703\n",
      "3.3249686594068377\n",
      "2.701086484291482\n"
     ]
    }
   ],
   "source": [
    "print(mean_squared_error(y_bar_test,lasso_bar_reg_pred))\n",
    "print(np.sqrt(mean_squared_error(y_bar_test,lasso_bar_reg_pred)))\n",
    "print(mean_absolute_error(y_bar_test,lasso_bar_reg_pred))"
   ]
  },
  {
   "cell_type": "code",
   "execution_count": 54,
   "id": "71950bd6",
   "metadata": {},
   "outputs": [
    {
     "name": "stdout",
     "output_type": "stream",
     "text": [
      "0.43952374333761934\n"
     ]
    }
   ],
   "source": [
    "from sklearn.metrics import r2_score\n",
    "lasso_br_score = r2_score(y_br_test,lasso_br_reg_pred)\n",
    "print(lasso_br_score)"
   ]
  },
  {
   "cell_type": "code",
   "execution_count": 73,
   "id": "18ea6893",
   "metadata": {},
   "outputs": [
    {
     "name": "stdout",
     "output_type": "stream",
     "text": [
      "0.2746231350066597\n"
     ]
    }
   ],
   "source": [
    "from sklearn.metrics import r2_score\n",
    "lasso_bar_score = r2_score(y_bar_test,lasso_bar_reg_pred)\n",
    "print(lasso_bar_score)"
   ]
  },
  {
   "cell_type": "markdown",
   "id": "6a8ab73a",
   "metadata": {},
   "source": [
    "# eslasticNet "
   ]
  },
  {
   "cell_type": "code",
   "execution_count": 56,
   "id": "e1fa23c6",
   "metadata": {},
   "outputs": [],
   "source": [
    "elastic_br_regression = ElasticNet(random_state=0)\n",
    "elastic_bar_regression = ElasticNet(random_state=0)"
   ]
  },
  {
   "cell_type": "code",
   "execution_count": 57,
   "id": "f957e4d9",
   "metadata": {},
   "outputs": [
    {
     "data": {
      "text/plain": [
       "ElasticNet(random_state=0)"
      ]
     },
     "execution_count": 57,
     "metadata": {},
     "output_type": "execute_result"
    }
   ],
   "source": [
    "elastic_br_regression.fit(x_br_train,y_br_train)"
   ]
  },
  {
   "cell_type": "code",
   "execution_count": 58,
   "id": "60777deb",
   "metadata": {},
   "outputs": [
    {
     "data": {
      "text/plain": [
       "ElasticNet(random_state=0)"
      ]
     },
     "execution_count": 58,
     "metadata": {},
     "output_type": "execute_result"
    }
   ],
   "source": [
    "elastic_bar_regression.fit(x_br_train,y_br_train)"
   ]
  },
  {
   "cell_type": "code",
   "execution_count": 59,
   "id": "82c7acc7",
   "metadata": {},
   "outputs": [],
   "source": [
    "elastic_br_reg_pred = elastic_br_regression.predict(x_br_test)"
   ]
  },
  {
   "cell_type": "code",
   "execution_count": 68,
   "id": "a4e3f080",
   "metadata": {},
   "outputs": [],
   "source": [
    "elastic_br_residual = y_br_test - elastic_br_reg_pred"
   ]
  },
  {
   "cell_type": "code",
   "execution_count": 61,
   "id": "c64fc3a4",
   "metadata": {},
   "outputs": [],
   "source": [
    "elastic_bar_reg_pred = elastic_bar_regression.predict(x_bar_test)"
   ]
  },
  {
   "cell_type": "code",
   "execution_count": 67,
   "id": "4b91d4bb",
   "metadata": {},
   "outputs": [],
   "source": [
    "elastic_bar_residual = y_bar_test - elastic_bar_reg_pred"
   ]
  },
  {
   "cell_type": "code",
   "execution_count": 63,
   "id": "be3a6f19",
   "metadata": {},
   "outputs": [
    {
     "name": "stdout",
     "output_type": "stream",
     "text": [
      "6.425080206967824\n",
      "2.5347741925007488\n",
      "2.0307322985595895\n"
     ]
    }
   ],
   "source": [
    "print(mean_squared_error(y_br_test,elastic_br_reg_pred))\n",
    "print(np.sqrt(mean_squared_error(y_br_test,elastic_br_reg_pred)))\n",
    "print(mean_absolute_error(y_br_test,elastic_br_reg_pred))"
   ]
  },
  {
   "cell_type": "code",
   "execution_count": 65,
   "id": "93a64b04",
   "metadata": {},
   "outputs": [
    {
     "name": "stdout",
     "output_type": "stream",
     "text": [
      "11.941009751015795\n",
      "3.4555766162850152\n",
      "2.780339222107195\n"
     ]
    }
   ],
   "source": [
    "print(mean_squared_error(y_bar_test,elastic_bar_reg_pred))\n",
    "print(np.sqrt(mean_squared_error(y_bar_test,elastic_bar_reg_pred)))\n",
    "print(mean_absolute_error(y_bar_test,elastic_bar_reg_pred))"
   ]
  },
  {
   "cell_type": "code",
   "execution_count": 74,
   "id": "7d4c5cf9",
   "metadata": {},
   "outputs": [
    {
     "name": "stdout",
     "output_type": "stream",
     "text": [
      "0.5344987575246569\n"
     ]
    }
   ],
   "source": [
    "from sklearn.metrics import r2_score\n",
    "elastic_br_score = r2_score(y_br_test,elastic_br_reg_pred)\n",
    "print(elastic_br_score)"
   ]
  },
  {
   "cell_type": "code",
   "execution_count": 75,
   "id": "c3f9297e",
   "metadata": {},
   "outputs": [
    {
     "name": "stdout",
     "output_type": "stream",
     "text": [
      "0.21651688557933058\n"
     ]
    }
   ],
   "source": [
    "from sklearn.metrics import r2_score\n",
    "elastic_bar_score = r2_score(y_bar_test,elastic_bar_reg_pred)\n",
    "print(elastic_bar_score)"
   ]
  },
  {
   "cell_type": "code",
   "execution_count": null,
   "id": "320df9fb",
   "metadata": {},
   "outputs": [],
   "source": []
  },
  {
   "cell_type": "code",
   "execution_count": null,
   "id": "101339eb",
   "metadata": {},
   "outputs": [],
   "source": []
  }
 ],
 "metadata": {
  "kernelspec": {
   "display_name": "Python 3 (ipykernel)",
   "language": "python",
   "name": "python3"
  },
  "language_info": {
   "codemirror_mode": {
    "name": "ipython",
    "version": 3
   },
   "file_extension": ".py",
   "mimetype": "text/x-python",
   "name": "python",
   "nbconvert_exporter": "python",
   "pygments_lexer": "ipython3",
   "version": "3.9.12"
  }
 },
 "nbformat": 4,
 "nbformat_minor": 5
}
